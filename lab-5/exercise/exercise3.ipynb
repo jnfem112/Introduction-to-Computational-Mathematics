{
 "cells": [
  {
   "cell_type": "markdown",
   "metadata": {},
   "source": [
    "# Lab 5\n",
    "\n",
    "1. 提交作業之前，建議可以先點選上方工具列的**Kernel**，再選擇**Restart & Run All**，檢查一下是否程式跑起來都沒有問題，最後記得儲存。\n",
    "2. 請先填上下方的姓名(name)及學號(stduent_id)再開始作答，例如：\n",
    "```python\n",
    "name = \"我的名字\"\n",
    "student_id= \"B06201000\"\n",
    "```\n",
    "3. 演算法的實作可以參考[lab-5](https://yuanyuyuan.github.io/itcm/lab-5.html), 有任何問題歡迎找助教詢問。\n",
    "4. **Deadline: 12/11(Wed.)**"
   ]
  },
  {
   "cell_type": "code",
   "execution_count": 1,
   "metadata": {},
   "outputs": [],
   "source": [
    "name = \"李澤諺\"\n",
    "student_id = \"B05902023\""
   ]
  },
  {
   "cell_type": "markdown",
   "metadata": {},
   "source": [
    "---"
   ]
  },
  {
   "cell_type": "markdown",
   "metadata": {
    "deletable": false,
    "editable": false,
    "nbgrader": {
     "cell_type": "markdown",
     "checksum": "8caa51313bc7dfbde7a7a4c46f4c8754",
     "grade": false,
     "grade_id": "cell-8c0898d088432222",
     "locked": true,
     "points": 12,
     "schema_version": 3,
     "solution": false,
     "task": true
    }
   },
   "source": [
    "# Exercise 3\n",
    "---\n",
    "### Analyse the convergence properties of the Jacobi and Gauss-Seidel methods for the solution of a linear system whose matrix is\n",
    "### $$\\left[\\begin{matrix}\n",
    "    \\alpha &&0 &&1\\\\\n",
    "    0 &&\\alpha &&0\\\\\n",
    "    1 &&0 &&\\alpha\n",
    "    \\end{matrix}\\right],\n",
    "    \\quad \\quad\n",
    "    \\alpha \\in \\mathbb{R}.$$"
   ]
  },
  {
   "cell_type": "markdown",
   "metadata": {},
   "source": [
    "令該矩陣為 $A$。  \n",
    "為了使用Jacobi method和Gauss-Seidel method，假設 $A$ 的對角線元素皆不為 $0$，即 $\\alpha \\ne 0$。  \n",
    "Jacobi method的iteration matrix為\n",
    "\\begin{align*}\n",
    "    G &= I - D^{-1} A\n",
    "    = I - \\left[\n",
    "    \\begin{array}{ccc}\n",
    "        \\alpha & 0 & 0\\\\\n",
    "        0 & \\alpha & 0\\\\\n",
    "        0 & 0 & \\alpha\n",
    "    \\end{array}\n",
    "    \\right]^{-1}\n",
    "    \\left[\n",
    "    \\begin{array}{ccc}\n",
    "        \\alpha & 0 & 1\\\\\n",
    "        0 & \\alpha & 0\\\\\n",
    "        1 & 0 & \\alpha\n",
    "    \\end{array}\n",
    "    \\right]\n",
    "    = \\left[\n",
    "    \\begin{array}{ccc}\n",
    "        0 & 0 & -\\frac{1}{\\alpha}\\\\\n",
    "        0 & 0 & 0\\\\\n",
    "        -\\frac{1}{\\alpha} & 0 & 0\n",
    "    \\end{array}\n",
    "    \\right]\n",
    "\\end{align*}\n",
    "其characteristic equation為\n",
    "\\begin{align*}\n",
    "    det(A - \\lambda I) = \n",
    "    \\left|\n",
    "    \\begin{array}{ccc}\n",
    "        -\\lambda & 0 & -\\frac{1}{\\alpha}\\\\\n",
    "        0 & -\\lambda & 0\\\\\n",
    "        -\\frac{1}{\\alpha} & 0 & -\\lambda\n",
    "    \\end{array}\n",
    "    \\right|\n",
    "    = -\\lambda^3 + \\frac{\\lambda}{\\alpha^2} = -\\lambda (\\lambda + \\frac{1}{\\alpha})(\\lambda - \\frac{1}{\\alpha}) = 0\n",
    "\\end{align*}\n",
    "因此可得 $G$ 的 eigenvalue 為 $0$ 和 $\\pm \\frac{1}{\\alpha}$。  \n",
    "由 $\\lim_{n \\rightarrow \\infty} G^n = O \\Leftrightarrow \\rho(G) < 1$，可知只有當 $| \\frac{1}{\\alpha} | < 1$，即 $\\alpha > 1$ 或 $\\alpha < -1$ 時，Jacobi method會converge。  \n",
    "Gauss-Seidel method的iteration matrix為\n",
    "\\begin{align*}\n",
    "    G = I - (L + D)^{-1} A\n",
    "    = I - \\left[\n",
    "    \\begin{array}{ccc}\n",
    "        \\alpha & 0 & 0\\\\\n",
    "        0 & \\alpha & 0\\\\\n",
    "        1 & 0 & \\alpha\n",
    "    \\end{array}\n",
    "    \\right]^{-1}\n",
    "    \\left[\n",
    "    \\begin{array}{ccc}\n",
    "        \\alpha & 0 & 1\\\\\n",
    "        0 & \\alpha & 0\\\\\n",
    "        0 & 0 & \\alpha\n",
    "    \\end{array}\n",
    "    \\right]\n",
    "    = \\left[\n",
    "    \\begin{array}{ccc}\n",
    "        0 & 0 & -\\frac{1}{\\alpha}\\\\\n",
    "        0 & 0 & 0\\\\\n",
    "        0 & 0 & \\frac{1}{\\alpha^2}\n",
    "    \\end{array}\n",
    "    \\right]\n",
    "\\end{align*}\n",
    "其characteristic equation為\n",
    "\\begin{align*}\n",
    "    det(A - \\lambda I) = \n",
    "    \\left|\n",
    "    \\begin{array}{ccc}\n",
    "        -\\lambda & 0 & -\\frac{1}{\\alpha}\\\\\n",
    "        0 & -\\lambda & 0\\\\\n",
    "        0 & 0 & \\frac{1}{\\alpha^2} - \\lambda\n",
    "    \\end{array}\n",
    "    \\right|\n",
    "    = \\lambda^2 (\\frac{1}{\\alpha^2} - \\lambda) = 0\n",
    "\\end{align*}\n",
    "因此可得 $G$ 的 eigenvalue 為 $0$ 和 $\\frac{1}{\\alpha^2}$。  \n",
    "由 $\\lim_{n \\rightarrow \\infty} G^n = O \\Leftrightarrow \\rho(G) < 1$，可知只有當 $| \\frac{1}{\\alpha^2} | < 1$，即 $\\alpha > 1$ 或 $\\alpha < -1$ 時，Gauss-Seidel method會converge。"
   ]
  },
  {
   "cell_type": "code",
   "execution_count": null,
   "metadata": {},
   "outputs": [],
   "source": []
  }
 ],
 "metadata": {
  "kernelspec": {
   "display_name": "Python 3",
   "language": "python",
   "name": "python3"
  },
  "language_info": {
   "codemirror_mode": {
    "name": "ipython",
    "version": 3
   },
   "file_extension": ".py",
   "mimetype": "text/x-python",
   "name": "python",
   "nbconvert_exporter": "python",
   "pygments_lexer": "ipython3",
   "version": "3.5.2"
  }
 },
 "nbformat": 4,
 "nbformat_minor": 2
}
